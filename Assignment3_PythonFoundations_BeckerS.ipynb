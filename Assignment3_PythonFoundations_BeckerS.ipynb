{
 "cells": [
  {
   "cell_type": "markdown",
   "id": "a017dd15-7940-4975-9ec8-c553d033242c",
   "metadata": {},
   "source": [
    "# Assignment 3: Python Fundamentals\n",
    "\n",
    "### Author: Sean Becker\n",
    "### Email: tuo01803@temple.edu\n",
    "#### This notebook will be used to explore the fundamentals of Python and to explore/apply the skills that we have been building on so far, which includes;\n",
    "        * Markdown\n",
    "        * Lists/dictionary\n",
    "        * Functions/conversions\n",
    "        * And more!\n",
    "\n",
    "# 1/1, Beadling\n"
   ]
  },
  {
   "cell_type": "code",
   "execution_count": 1,
   "id": "eee99228-acaa-4c28-a87d-8b4559b45582",
   "metadata": {},
   "outputs": [],
   "source": [
    "import matplotlib.pyplot as plt  # Sets up being able to render figures.\n",
    "%matplotlib inline                           \n",
    "%config InlineBackend.figure_format='retina' \n",
    "plt.rcParams['figure.figsize'] = 12,6   \n",
    "\n",
    "# 1/1, Beadling"
   ]
  },
  {
   "cell_type": "markdown",
   "id": "da1cb3fb-35fb-4866-b7a2-f4042af74646",
   "metadata": {},
   "source": [
    "<span style=\"color:red\"> Create a list with the names of every planet in the solar system (in order by distancefrom the sun)"
   ]
  },
  {
   "cell_type": "code",
   "execution_count": 2,
   "id": "7a0c8acb-a310-4d1a-b1d9-8665a65a204e",
   "metadata": {},
   "outputs": [],
   "source": [
    "Planets = [\"Mercury\", \"Venus\", \"Earth\", \"Mars\", \"Jupiter\", \"Saturn\", \"Uranus\", \"Neptune\"] #List of planets in order from, the sun. Sorry pluto, not a planet.\n",
    "\n",
    "# 1/1, Beadling"
   ]
  },
  {
   "cell_type": "markdown",
   "id": "62d110ec-f4ac-4ab7-bdf0-18a06c1e3d8a",
   "metadata": {},
   "source": [
    "<span style=\"color:red\"> Have Python tell you how many planets there are by examining your list"
   ]
  },
  {
   "cell_type": "code",
   "execution_count": 3,
   "id": "72cabfdd-c609-4f9e-aafe-bd50ed7e43b0",
   "metadata": {},
   "outputs": [
    {
     "data": {
      "text/plain": [
       "8"
      ]
     },
     "execution_count": 3,
     "metadata": {},
     "output_type": "execute_result"
    }
   ],
   "source": [
    "len(Planets) # Will return the number of objects contained in the list.\n",
    "\n",
    "# 1/1, Beadling"
   ]
  },
  {
   "cell_type": "markdown",
   "id": "50ccd265-ca2e-409e-9015-dc16c30ebd95",
   "metadata": {},
   "source": [
    "<span style=\"color:red\"> Use slicing to display the first four planets (the rocky planets). In the Markdown cell for this question, embed images of the four planets."
   ]
  },
  {
   "cell_type": "code",
   "execution_count": 4,
   "id": "18dfeeb1-3472-4397-ac0f-cf2ebd60b710",
   "metadata": {},
   "outputs": [
    {
     "name": "stdout",
     "output_type": "stream",
     "text": [
      "['Mercury', 'Venus', 'Earth', 'Mars']\n"
     ]
    }
   ],
   "source": [
    "print(Planets[0:4]) #printing the first four planets, specified by the brackets\n",
    "\n",
    "# 1/1, Beadling"
   ]
  },
  {
   "cell_type": "markdown",
   "id": "1d0645b7-24a8-4d24-8d39-48ad70fb0c09",
   "metadata": {},
   "source": [
    "Mercury\n",
    "![](https://i.natgeofe.com/n/c6f7cee9-cde6-44a2-a686-9a80f5bfc1e8/01_mercury_pia15190_orig.jpg)\n",
    "Venus\n",
    "![](https://wp.technologyreview.com/wp-content/uploads/2020/09/PIA23791-JPL-Caltech_web.jpg?w=1944)\n",
    "Earth\n",
    "![](https://cdn.britannica.com/25/160325-050-EB1C8FB7/image-instruments-Earth-satellite-NASA-Suomi-National-2012.jpg)\n",
    "Mars\n",
    "![](https://upload.wikimedia.org/wikipedia/commons/0/0c/Mars_-_August_30_2021_-_Flickr_-_Kevin_M._Gill.png)"
   ]
  },
  {
   "cell_type": "markdown",
   "id": "8bed20fa-c1bf-40d0-849a-07bd5cc657c8",
   "metadata": {},
   "source": [
    "<span style=\"color:red\"> Iterate through your planets and print the planet name only if it has a “s” at the end."
   ]
  },
  {
   "cell_type": "code",
   "execution_count": 12,
   "id": "56aeb7a0-68c2-4474-8c6a-d00b8791dc5d",
   "metadata": {},
   "outputs": [
    {
     "name": "stdout",
     "output_type": "stream",
     "text": [
      "Venus\n",
      "Mars\n",
      "Uranus\n"
     ]
    }
   ],
   "source": [
    "for element in Planets:  #Checking the elements/words in that list\n",
    "    if 's' in element[-1]: #if s is in the last position for each element\n",
    "        print(element)    #print the element\n",
    "\n",
    "    # 1/1, Beadling"
   ]
  },
  {
   "cell_type": "markdown",
   "id": "a7e0aa00-d78e-427f-ad93-518630aae88c",
   "metadata": {},
   "source": [
    "<span style=\"color:red\"> Create a dictionary that maps each planet name to its mass. You can use values \n",
    "from this NASA fact sheet. You can use whatever units you want but be consistent."
   ]
  },
  {
   "cell_type": "code",
   "execution_count": 19,
   "id": "0a02fb5d-4918-4c53-b6d6-46217cd520ab",
   "metadata": {},
   "outputs": [
    {
     "data": {
      "text/plain": [
       "{'Mercury': 3.3e+23,\n",
       " 'Venus': 4.87e+24,\n",
       " 'Earth': 5.969999999999999e+24,\n",
       " 'Mars': 6.42e+23,\n",
       " 'Jupiter': 1898000000000000000000000000,\n",
       " 'Saturn': 568000000000000000000000000,\n",
       " 'Uranus': 8.68e+25,\n",
       " 'Neptune': 102000000000000000000000000}"
      ]
     },
     "execution_count": 19,
     "metadata": {},
     "output_type": "execute_result"
    }
   ],
   "source": [
    "PlanetMass_kg={    #dictionary with the name of each planet mapped to its mass in kg\n",
    "    \"Mercury\": .330*10**24,\n",
    "    \"Venus\": 4.87*10**24,\n",
    "    \"Earth\": 5.97*10**24,\n",
    "    \"Mars\": .642*10**24,\n",
    "    \"Jupiter\": 1898*10**24,\n",
    "    \"Saturn\": 568*10**24,\n",
    "    \"Uranus\": 86.8*10**24,\n",
    "    \"Neptune\": 102*10**24,\n",
    "}\n",
    "PlanetMass_kg #to test the dictionary and make sure it prints out each planet with mass\n",
    "\n",
    "# 1/1, Beadling"
   ]
  },
  {
   "cell_type": "markdown",
   "id": "b3e97450-d974-4081-a0e7-7357bcf06555",
   "metadata": {},
   "source": [
    "<span style=\"color:red\"> Use your dictionary to look up Earth’s mass."
   ]
  },
  {
   "cell_type": "code",
   "execution_count": 25,
   "id": "0fc15ec5-a95d-43f3-a647-1aa7c661eeff",
   "metadata": {},
   "outputs": [
    {
     "data": {
      "text/plain": [
       "5.969999999999999e+24"
      ]
     },
     "execution_count": 25,
     "metadata": {},
     "output_type": "execute_result"
    }
   ],
   "source": [
    "PlanetMass_kg['Earth'] #calling on the dictionary to print Earths mass. need to remember the ' ' since i used quotes in the dictionary\n",
    "\n",
    "# 1/1, Beadling"
   ]
  },
  {
   "cell_type": "markdown",
   "id": "8ef30f38-fca3-4c49-bd92-8b5b37d94ecf",
   "metadata": {},
   "source": [
    "<span style=\"color:red\"> Loop through the data and create a list of planets whose mass is greater than 100 x \n",
    "10^24 kg."
   ]
  },
  {
   "cell_type": "code",
   "execution_count": 32,
   "id": "7aae0edb-bd1d-4bf5-8558-f31c608b598f",
   "metadata": {},
   "outputs": [
    {
     "name": "stdout",
     "output_type": "stream",
     "text": [
      "Jupiter\n",
      "Saturn\n",
      "Neptune\n"
     ]
    }
   ],
   "source": [
    "for x in PlanetMass_kg: #loop that will look at each planet\n",
    "    if PlanetMass_kg[x] > 100*10**24: #if the associated mass is above this value....\n",
    "        print(x)      #print\n",
    "\n",
    "# 1/1, Beadling"
   ]
  },
  {
   "cell_type": "markdown",
   "id": "e00fc307-a616-4b65-b800-9e310c8a4483",
   "metadata": {},
   "source": [
    "<span style=\"color:red\"> Display your result"
   ]
  },
  {
   "cell_type": "code",
   "execution_count": 37,
   "id": "2cfb521f-13af-4e87-9fbe-50243d72ed7c",
   "metadata": {},
   "outputs": [
    {
     "name": "stdout",
     "output_type": "stream",
     "text": [
      "Jupiter\n",
      "Saturn\n",
      "Neptune\n"
     ]
    }
   ],
   "source": [
    "for x in PlanetMass_kg: #loop that will look at each planet\n",
    "    if PlanetMass_kg[x] > 100*10**24: #if the associated mass is above this value....\n",
    "        print(x)      #print"
   ]
  },
  {
   "cell_type": "markdown",
   "id": "3db027e0-2680-41f8-8747-34ffc767a24c",
   "metadata": {},
   "source": [
    "<span style=\"color:red\"> Now add Pluto to your dictionary"
   ]
  },
  {
   "cell_type": "code",
   "execution_count": 39,
   "id": "73d695a3-1453-42bf-a1b3-edfc547705c7",
   "metadata": {},
   "outputs": [
    {
     "data": {
      "text/plain": [
       "{'Mercury': 3.3e+23,\n",
       " 'Venus': 4.87e+24,\n",
       " 'Earth': 5.969999999999999e+24,\n",
       " 'Mars': 6.42e+23,\n",
       " 'Jupiter': 1898000000000000000000000000,\n",
       " 'Saturn': 568000000000000000000000000,\n",
       " 'Uranus': 8.68e+25,\n",
       " 'Neptune': 102000000000000000000000000,\n",
       " 'Pluto': 1.3e+22}"
      ]
     },
     "execution_count": 39,
     "metadata": {},
     "output_type": "execute_result"
    }
   ],
   "source": [
    "PlanetMass_kg={    #dictionary with the name of each planet mapped to its mass in kg\n",
    "    \"Mercury\": .330*10**24,\n",
    "    \"Venus\": 4.87*10**24,\n",
    "    \"Earth\": 5.97*10**24,\n",
    "    \"Mars\": .642*10**24,\n",
    "    \"Jupiter\": 1898*10**24,\n",
    "    \"Saturn\": 568*10**24,\n",
    "    \"Uranus\": 86.8*10**24,\n",
    "    \"Neptune\": 102*10**24,\n",
    "    \"Pluto\": .0130*10**24 #welcome to the club, Pluto\n",
    "}\n",
    "PlanetMass_kg #to test the dictionary and make sure it prints out each planet with mass\n",
    "\n",
    "# 1/1 --- yes, but this is a very long and inefficient way ....\n",
    "# In your Python foundations notebook you learned another way:\n",
    "# PlanetMass[\"Pluto\"]=0.130"
   ]
  },
  {
   "cell_type": "markdown",
   "id": "bab5f9b2-1411-48d5-86ba-ca8283af36db",
   "metadata": {},
   "source": [
    "<span style=\"color:red\"> Write a dictionary that maps your course names to your course time. Example: ‘EES2096’ : ‘T R 9:30 – 10:50 AM’"
   ]
  },
  {
   "cell_type": "code",
   "execution_count": 42,
   "id": "1569483a-cb37-4ffa-bf12-b422451938f7",
   "metadata": {},
   "outputs": [
    {
     "data": {
      "text/plain": [
       "{'EES_5401': 'T R 8:00-9:20 & W 4:00-6:00',\n",
       " 'EES_5506': 'T R 9:30-10:50',\n",
       " 'EES_5601': 'T 1:00-4:00'}"
      ]
     },
     "execution_count": 42,
     "metadata": {},
     "output_type": "execute_result"
    }
   ],
   "source": [
    "Fall2024={ #the courses I am taking as a student\n",
    "    'EES_5401':\"T R 8:00-9:20 & W 4:00-6:00\",\n",
    "    'EES_5506':\"T R 9:30-10:50\",\n",
    "    'EES_5601':\"T 1:00-4:00\"\n",
    "}\n",
    "Fall2024 #to output my schedule\n",
    "\n",
    "# 1/1, Beadling"
   ]
  },
  {
   "cell_type": "markdown",
   "id": "7910359b-2eae-4b53-9748-d2cb917be1a2",
   "metadata": {},
   "source": [
    "<span style=\"color:red\"> Write a function to convert from miles to kilometers (km) and km to miles, with the \n",
    "user specifying either miles or km as inputs."
   ]
  },
  {
   "cell_type": "code",
   "execution_count": 44,
   "id": "34fd07c7-d975-4da6-a781-7b1201bdde8e",
   "metadata": {},
   "outputs": [],
   "source": [
    "def mi_km_conversion(distance, to_units=\"km\"): #mi to km by default but user can specify what they are converting to\n",
    "    if to_units == \"km\":\n",
    "        convert = distance*1.60934\n",
    "    if to_units == \"mi\":\n",
    "        convert = distance*0.621371\n",
    "\n",
    "    return convert #the return outout will hold the conversion value\n",
    "\n",
    "# 1/1, Beadling"
   ]
  },
  {
   "cell_type": "markdown",
   "id": "1329304a-9557-4d70-8353-beeafd3344c3",
   "metadata": {},
   "source": [
    "<span style=\"color:red\"> Check that the results are sensible by trying several examples."
   ]
  },
  {
   "cell_type": "code",
   "execution_count": 46,
   "id": "9360ee40-c647-49f7-800e-1713b022a923",
   "metadata": {},
   "outputs": [
    {
     "data": {
      "text/plain": [
       "1.242742"
      ]
     },
     "execution_count": 46,
     "metadata": {},
     "output_type": "execute_result"
    }
   ],
   "source": [
    "mi_km_conversion(2, to_units=\"mi\")"
   ]
  },
  {
   "cell_type": "code",
   "execution_count": 47,
   "id": "35f8b71c-85e6-4803-b538-2a199c48c567",
   "metadata": {},
   "outputs": [
    {
     "data": {
      "text/plain": [
       "16.0934"
      ]
     },
     "execution_count": 47,
     "metadata": {},
     "output_type": "execute_result"
    }
   ],
   "source": [
    "mi_km_conversion(10, to_units=\"km\")"
   ]
  },
  {
   "cell_type": "markdown",
   "id": "ff49991d-2d22-46db-bd1d-37d54630d917",
   "metadata": {},
   "source": [
    "<span style=\"color:red\"> Use your function to determine the length of a 5K race in miles"
   ]
  },
  {
   "cell_type": "code",
   "execution_count": 49,
   "id": "c2afdb99-cfbf-4d68-9c89-fd89547fc059",
   "metadata": {},
   "outputs": [
    {
     "data": {
      "text/plain": [
       "3.106855"
      ]
     },
     "execution_count": 49,
     "metadata": {},
     "output_type": "execute_result"
    }
   ],
   "source": [
    "mi_km_conversion(5, to_units=\"mi\")\n",
    "\n",
    "# 1/1, Beadling"
   ]
  },
  {
   "cell_type": "markdown",
   "id": "a9902081-47a3-4737-95f4-d92fbb997c4b",
   "metadata": {},
   "source": [
    "<span style=\"color:red\"> Write a function that computes and returns the surface area of a sphere."
   ]
  },
  {
   "cell_type": "code",
   "execution_count": 57,
   "id": "f352df9f-6d1f-4b77-b49a-e3556d83bddb",
   "metadata": {},
   "outputs": [],
   "source": [
    "def area_sphere(radius): #function accepts a radius value. The area will be un the sane units but squared\n",
    "    area = 4*3.14*radius**2\n",
    "    return area  #the return value will equal the area as converted by function\n",
    "\n",
    "# 1/1, Beadling"
   ]
  },
  {
   "cell_type": "code",
   "execution_count": 53,
   "id": "334f3860-0afd-4d69-956d-bd21328de506",
   "metadata": {},
   "outputs": [],
   "source": [
    "sun_rad = 432690 #creating variables for the next question, for fun. radius given in miles\n",
    "earth_rad = 3938.8"
   ]
  },
  {
   "cell_type": "markdown",
   "id": "05315572-b34d-4772-9b03-c76806b7b070",
   "metadata": {},
   "source": [
    "<span style=\"color:red\"> Use your function to compute the surface area of the Sun and of the Earth"
   ]
  },
  {
   "cell_type": "code",
   "execution_count": 62,
   "id": "becae674-7244-4c9d-b633-1dd67a9b6df7",
   "metadata": {},
   "outputs": [
    {
     "data": {
      "text/plain": [
       "2351491189416.0"
      ]
     },
     "execution_count": 62,
     "metadata": {},
     "output_type": "execute_result"
    }
   ],
   "source": [
    "area_sphere(sun_rad) #output in miles squared\n",
    "\n",
    "# 1/1, Beadling"
   ]
  },
  {
   "cell_type": "code",
   "execution_count": 65,
   "id": "a863781e-cc80-44a8-b9fc-0f09db9a77a2",
   "metadata": {},
   "outputs": [
    {
     "data": {
      "text/plain": [
       "194857666.72640002"
      ]
     },
     "execution_count": 65,
     "metadata": {},
     "output_type": "execute_result"
    }
   ],
   "source": [
    "area_sphere(earth_rad) #output in miles square"
   ]
  },
  {
   "cell_type": "markdown",
   "id": "74402b5f-91a0-45bc-bfbb-26c10e15366b",
   "metadata": {},
   "source": [
    "<span style=\"color:red\"> Write a function that takes two arguments (feet and inches) and returns height in \n",
    "meters."
   ]
  },
  {
   "cell_type": "code",
   "execution_count": 71,
   "id": "4556f778-9e3c-4f61-bf7a-65829a87fe0d",
   "metadata": {},
   "outputs": [],
   "source": [
    "def feet_inches_to_meters(feet, inches): #the function takes two values, first feet then inches\n",
    "    new_inches = (feet*12) + inches  #convert feet to inches and add the input inches to get total value in inches\n",
    "    meters = new_inches / 39.37 #convert inches to meters\n",
    "    return meters\n",
    "\n",
    "# 1/1, Beadling"
   ]
  },
  {
   "cell_type": "code",
   "execution_count": 70,
   "id": "4c67b377-410e-4f9e-9c42-83f46d301072",
   "metadata": {},
   "outputs": [
    {
     "data": {
      "text/plain": [
       "7.874015748031496"
      ]
     },
     "execution_count": 70,
     "metadata": {},
     "output_type": "execute_result"
    }
   ],
   "source": [
    "feet_inches_to_meters(25, 10)"
   ]
  },
  {
   "cell_type": "markdown",
   "id": "acb464b1-cd4b-49d8-b8cb-7133d8b67738",
   "metadata": {},
   "source": [
    "<span style=\"color:red\"> Write a function that takes that takes one argument (height in meters) and returns two arguments (feet and inches)."
   ]
  },
  {
   "cell_type": "code",
   "execution_count": 90,
   "id": "3975f271-0dac-4518-8c37-1f81d4890b8a",
   "metadata": {},
   "outputs": [],
   "source": [
    "def meters_to_feet_inches(meters): #function will take meters as an input\n",
    "    m_to_inch = (meters*39.37) #turning the meters to total inches\n",
    "    m_to_feet = 0 #conversion to feet starts at 0\n",
    "    while m_to_inch >= 12: #while function for when the amount if inches is greater than 12\n",
    "        m_to_inch -= 12 #will subract 12 from total inches\n",
    "        m_to_feet += 1 #and add 1 to feet incrementally, until the final value is a number in feet and a remaining number of inches less than 12\n",
    "    else:\n",
    "        print(m_to_feet, \"feet\",  m_to_inch, \"inches\") #this should output the feet and inches calculated above...\n",
    "\n",
    "# 1/1, Beadling ---- this function seems unecessarily complicated ... see the Assignment 3 key."
   ]
  },
  {
   "cell_type": "code",
   "execution_count": 88,
   "id": "92eb45aa-b85a-4075-baec-3f73ddacbd47",
   "metadata": {},
   "outputs": [
    {
     "name": "stdout",
     "output_type": "stream",
     "text": [
      "32 feet 9.699999999999989 inches\n"
     ]
    }
   ],
   "source": [
    "meters_to_feet_inches(10)"
   ]
  },
  {
   "cell_type": "code",
   "execution_count": 91,
   "id": "8da7adc3-c6d4-4913-a343-607a1397de64",
   "metadata": {},
   "outputs": [
    {
     "name": "stdout",
     "output_type": "stream",
     "text": [
      "403 feet 6.509999999999309 inches\n"
     ]
    }
   ],
   "source": [
    "meters_to_feet_inches(123)"
   ]
  },
  {
   "cell_type": "markdown",
   "id": "c12d6c7c-7441-488f-941c-02693a737c92",
   "metadata": {},
   "source": [
    "## <span style=\"color:red\"> Save your notebook file, return to your terminal, move your file into your Assignments folder, and push (recall you will have to use git status, git add, git commit -m (revisit your notes) your new file to your GitHub account. Confirm that you see this new file on your GitHub account online.\n"
   ]
  },
  {
   "cell_type": "markdown",
   "id": "01442bb6-29d5-48a6-839d-75d67fb611d3",
   "metadata": {},
   "source": [
    "## Grade: 17/17, but shows on GitHub this was commited 5 days ago ..... (Tuesday), as stated in the Syllabus, 5% deduction per day late:\n",
    "## 14.45 / 17."
   ]
  },
  {
   "cell_type": "code",
   "execution_count": null,
   "id": "39bcb7f1",
   "metadata": {},
   "outputs": [],
   "source": []
  }
 ],
 "metadata": {
  "kernelspec": {
   "display_name": "Python 3 (ipykernel)",
   "language": "python",
   "name": "python3"
  },
  "language_info": {
   "codemirror_mode": {
    "name": "ipython",
    "version": 3
   },
   "file_extension": ".py",
   "mimetype": "text/x-python",
   "name": "python",
   "nbconvert_exporter": "python",
   "pygments_lexer": "ipython3",
   "version": "3.9.17"
  }
 },
 "nbformat": 4,
 "nbformat_minor": 5
}
